{
 "cells": [
  {
   "cell_type": "markdown",
   "id": "38d2382f",
   "metadata": {},
   "source": [
    "**Michelle Njio Piters - 0706022210045**"
   ]
  },
  {
   "cell_type": "markdown",
   "id": "9cd4a40b",
   "metadata": {},
   "source": [
    "1. Faktorial"
   ]
  },
  {
   "cell_type": "code",
   "execution_count": 10,
   "id": "1c9e603a",
   "metadata": {},
   "outputs": [
    {
     "name": "stdout",
     "output_type": "stream",
     "text": [
      "Masukkan bilangan non-negatif: 5\n",
      "Nilai faktorial dari 5 adalah 120\n"
     ]
    }
   ],
   "source": [
    "def hitung_faktorial(bilangan):\n",
    "    if bilangan < 0:\n",
    "        return \"Faktorial tidak terdefinisi untuk bilangan negatif\"\n",
    "    elif bilangan <= 1:\n",
    "        return 1\n",
    "    else:\n",
    "        return bilangan * hitung_faktorial(bilangan - 1)\n",
    "\n",
    "# Meminta input angka dari pengguna\n",
    "angka = int(input(\"Masukkan bilangan non-negatif: \"))\n",
    "if angka < 0:\n",
    "    print(\"Masukkan bilangan positif atau nol!\")\n",
    "else:\n",
    "    hasil = hitung_faktorial(angka)\n",
    "    print(f\"Nilai faktorial dari {angka} adalah {hasil}\")\n"
   ]
  },
  {
   "cell_type": "markdown",
   "id": "78dd1c85",
   "metadata": {},
   "source": [
    "2. Fibonacci"
   ]
  },
  {
   "cell_type": "code",
   "execution_count": 3,
   "id": "bb1a8b45",
   "metadata": {},
   "outputs": [
    {
     "name": "stdout",
     "output_type": "stream",
     "text": [
      "Masukkan angka non-negatif: 7\n",
      "Bilangan Fibonacci ke-7 adalah 13\n"
     ]
    }
   ],
   "source": [
    "def hitung_fibonacci(angka):\n",
    "    if angka < 0:\n",
    "        return \"Bilangan Fibonacci tidak didefinisikan untuk angka negatif.\"\n",
    "    elif angka == 0:\n",
    "        return 0\n",
    "    elif angka == 1:\n",
    "        return 1\n",
    "    else:\n",
    "        return hitung_fibonacci(angka - 1) + hitung_fibonacci(angka - 2)\n",
    "\n",
    "# Meminta input dari pengguna\n",
    "n = int(input(\"Masukkan angka non-negatif: \"))\n",
    "if n < 0:\n",
    "    print(\"Harap masukkan angka positif atau nol.\")\n",
    "else:\n",
    "    hasil = hitung_fibonacci(n)\n",
    "    print(f\"Bilangan Fibonacci ke-{n} adalah {hasil}\")\n"
   ]
  },
  {
   "cell_type": "markdown",
   "id": "dfab9917",
   "metadata": {},
   "source": [
    "3. 3 Program lainnya"
   ]
  },
  {
   "cell_type": "code",
   "execution_count": 16,
   "id": "98b4a45c",
   "metadata": {},
   "outputs": [
    {
     "name": "stdout",
     "output_type": "stream",
     "text": [
      "Masukkan basis: 7\n",
      "Masukkan eksponen: 3\n",
      "7 pangkat 3 adalah 343\n"
     ]
    }
   ],
   "source": [
    "#3. Menghitung pangkat\n",
    "\n",
    "def pangkat(basis, eksponen):\n",
    "    if eksponen == 0:\n",
    "        return 1\n",
    "    else:\n",
    "        return basis * pangkat(basis, eksponen - 1)\n",
    "\n",
    "# Meminta input dari pengguna\n",
    "basis = int(input(\"Masukkan basis: \"))\n",
    "eksponen = int(input(\"Masukkan eksponen: \"))\n",
    "hasil = pangkat(basis, eksponen)\n",
    "print(f\"{basis} pangkat {eksponen} adalah {hasil}\")"
   ]
  },
  {
   "cell_type": "code",
   "execution_count": 12,
   "id": "a8eff27f",
   "metadata": {},
   "outputs": [
    {
     "name": "stdout",
     "output_type": "stream",
     "text": [
      "Masukkan angka: 7\n",
      "Jumlah angka dari 1 sampai 7 adalah 28\n"
     ]
    }
   ],
   "source": [
    "#4. Menghitung jumlah angka\n",
    "\n",
    "def jumlah_angka(n):\n",
    "    if n == 1:\n",
    "        return 1\n",
    "    else:\n",
    "        return n + jumlah_angka(n - 1)\n",
    "\n",
    "# Meminta input dari pengguna\n",
    "n = int(input(\"Masukkan angka: \"))\n",
    "hasil = jumlah_angka(n)\n",
    "print(f\"Jumlah angka dari 1 sampai {n} adalah {hasil}\")"
   ]
  },
  {
   "cell_type": "code",
   "execution_count": 18,
   "id": "894417ee",
   "metadata": {},
   "outputs": [
    {
     "name": "stdout",
     "output_type": "stream",
     "text": [
      "Masukkan string: halo\n",
      "String yang dibalik: olah\n"
     ]
    }
   ],
   "source": [
    "#5. Membalik string\n",
    "\n",
    "def balik_string(s):\n",
    "    if len(s) == 0:\n",
    "        return s\n",
    "    else:\n",
    "        return s[-1] + balik_string(s[:-1])\n",
    "\n",
    "# Meminta input dari pengguna\n",
    "teks = input(\"Masukkan string: \")\n",
    "hasil = balik_string(teks)\n",
    "print(f\"String yang dibalik: {hasil}\")\n"
   ]
  },
  {
   "cell_type": "markdown",
   "id": "7ef16059",
   "metadata": {},
   "source": [
    "6. Entropy"
   ]
  },
  {
   "cell_type": "code",
   "execution_count": 2,
   "id": "23dca126",
   "metadata": {},
   "outputs": [
    {
     "name": "stdout",
     "output_type": "stream",
     "text": [
      "Masukkan jumlah Yes: 4\n",
      "Masukkan jumlah No: 5\n",
      "Data yang diacak: ['Yes', 'No', 'No', 'No', 'Yes', 'No', 'Yes', 'Yes', 'No']\n",
      "Entropy dari data yang diberikan adalah: 0.9910760598382222\n"
     ]
    }
   ],
   "source": [
    "import math\n",
    "import random\n",
    "\n",
    "def hitung_entropy(probabilitas_yes, probabilitas_no):\n",
    "    # Base case: jika probabilitas sudah 0 atau 1, maka entropy adalah 0\n",
    "    if probabilitas_yes == 0 or probabilitas_no == 0:\n",
    "        return 0\n",
    "    # Entropy dihitung dengan rumus: -p_yes * log2(p_yes) - p_no * log2(p_no)\n",
    "    return -probabilitas_yes * math.log2(probabilitas_yes) - probabilitas_no * math.log2(probabilitas_no)\n",
    "\n",
    "def bagi_data(data):\n",
    "    # Fungsi ini mengasumsikan data berupa list yang berisi 'Yes' dan 'No'\n",
    "    jumlah_yes = data.count('Yes')  # Menghitung jumlah 'Yes'\n",
    "    jumlah_no = data.count('No')   # Menghitung jumlah 'No'\n",
    "    \n",
    "    total = len(data)\n",
    "    if total == 0:\n",
    "        return 0, 0  # Untuk menghindari pembagian dengan nol\n",
    "\n",
    "    probabilitas_yes = jumlah_yes / total\n",
    "    probabilitas_no = jumlah_no / total\n",
    "    \n",
    "    return probabilitas_yes, probabilitas_no\n",
    "\n",
    "def entropy_rekursif(data):\n",
    "    if len(data) <= 1:  # Base case: jika hanya ada satu elemen atau data kosong\n",
    "        return 0\n",
    "    \n",
    "    # Bagi data menjadi 'Yes' dan 'No' lalu hitung probabilitas masing-masing\n",
    "    probabilitas_yes, probabilitas_no = bagi_data(data)\n",
    "    \n",
    "    # Hitung dan kembalikan nilai entropy\n",
    "    return hitung_entropy(probabilitas_yes, probabilitas_no)\n",
    "\n",
    "# Meminta input dari pengguna\n",
    "jumlah_yes = int(input(\"Masukkan jumlah Yes: \"))\n",
    "jumlah_no = int(input(\"Masukkan jumlah No: \"))\n",
    "\n",
    "# Membuat data dengan jumlah Yes dan No yang diberikan\n",
    "data_input = ['Yes'] * jumlah_yes + ['No'] * jumlah_no\n",
    "\n",
    "# Menyusun data secara acak\n",
    "random.shuffle(data_input)\n",
    "\n",
    "# Memanggil fungsi rekursif untuk menghitung entropy\n",
    "hasil_entropy = entropy_rekursif(data_input)\n",
    "\n",
    "# Menampilkan hasil\n",
    "print(f\"Data yang diacak: {data_input}\")\n",
    "print(f\"Entropy dari data yang diberikan adalah: {hasil_entropy}\")\n"
   ]
  },
  {
   "cell_type": "markdown",
   "id": "03662317",
   "metadata": {},
   "source": [
    "7. GINI"
   ]
  },
  {
   "cell_type": "code",
   "execution_count": 3,
   "id": "546d9fbb",
   "metadata": {},
   "outputs": [
    {
     "name": "stdout",
     "output_type": "stream",
     "text": [
      "Masukkan jumlah Yes: 7\n",
      "Masukkan jumlah No: 3\n",
      "Data yang diacak: ['Yes', 'No', 'Yes', 'No', 'Yes', 'Yes', 'Yes', 'Yes', 'No', 'Yes']\n",
      "Gini Index dari data yang diberikan adalah: 0.42000000000000004\n"
     ]
    }
   ],
   "source": [
    "def hitung_gini(jumlah_yes, jumlah_no):\n",
    "    total = jumlah_yes + jumlah_no\n",
    "    if total == 0:\n",
    "        return 0  # Menghindari pembagian dengan nol\n",
    "    prob_yes = jumlah_yes / total\n",
    "    prob_no = jumlah_no / total\n",
    "    # Menghitung Gini Index\n",
    "    gini_index = 1 - (prob_yes ** 2 + prob_no ** 2)\n",
    "    return gini_index\n",
    "\n",
    "# Meminta input dari pengguna\n",
    "jumlah_yes = int(input(\"Masukkan jumlah Yes: \"))\n",
    "jumlah_no = int(input(\"Masukkan jumlah No: \"))\n",
    "\n",
    "# Membuat data dengan jumlah Yes dan No yang diberikan\n",
    "data_input = ['Yes'] * jumlah_yes + ['No'] * jumlah_no\n",
    "\n",
    "# Menyusun data secara acak\n",
    "random.shuffle(data_input)\n",
    "\n",
    "# Menampilkan data acak\n",
    "print(\"Data yang diacak:\", data_input)\n",
    "\n",
    "# Menghitung Gini Index\n",
    "gini = hitung_gini(jumlah_yes, jumlah_no)\n",
    "\n",
    "# Menampilkan hasil\n",
    "print(f\"Gini Index dari data yang diberikan adalah: {gini}\")\n"
   ]
  },
  {
   "cell_type": "markdown",
   "id": "b6a26430",
   "metadata": {},
   "source": [
    "8. Classification Error"
   ]
  },
  {
   "cell_type": "code",
   "execution_count": 7,
   "id": "0c016ae6",
   "metadata": {},
   "outputs": [
    {
     "name": "stdout",
     "output_type": "stream",
     "text": [
      "Masukkan jumlah Yes: 8\n",
      "Masukkan jumlah No: 5\n",
      "Data setelah diacak: ['Yes', 'Yes', 'Yes', 'No', 'Yes', 'No', 'No', 'Yes', 'Yes', 'Yes', 'Yes', 'No', 'No']\n",
      "Classification error untuk data yang diberikan: 0.38461538461538464\n"
     ]
    }
   ],
   "source": [
    "def calculate_classification_error(yes_count, no_count):\n",
    "    total_count = yes_count + no_count\n",
    "    if total_count == 0:\n",
    "        return 0  # Menghindari pembagian dengan nol\n",
    "    \n",
    "    # Menentukan kategori dengan jumlah terbanyak\n",
    "    dominant_class_count = max(yes_count, no_count)\n",
    "    \n",
    "    # Menghitung persentase error klasifikasi\n",
    "    error_rate = (total_count - dominant_class_count) / total_count\n",
    "    return error_rate\n",
    "\n",
    "# Menerima input dari pengguna\n",
    "yes_count = int(input(\"Masukkan jumlah Yes: \"))\n",
    "no_count = int(input(\"Masukkan jumlah No: \"))\n",
    "\n",
    "# Membuat daftar data berdasarkan input pengguna\n",
    "data_samples = ['Yes'] * yes_count + ['No'] * no_count\n",
    "\n",
    "# Mengacak urutan data\n",
    "random.shuffle(data_samples)\n",
    "\n",
    "# Menampilkan data yang sudah diacak\n",
    "print(\"Data setelah diacak:\", data_samples)\n",
    "\n",
    "# Menghitung tingkat kesalahan klasifikasi\n",
    "classification_error = calculate_classification_error(yes_count, no_count)\n",
    "\n",
    "# Menampilkan hasil perhitungan\n",
    "print(f\"Classification error untuk data yang diberikan: {classification_error}\")"
   ]
  }
 ],
 "metadata": {
  "kernelspec": {
   "display_name": "Python 3 (ipykernel)",
   "language": "python",
   "name": "python3"
  },
  "language_info": {
   "codemirror_mode": {
    "name": "ipython",
    "version": 3
   },
   "file_extension": ".py",
   "mimetype": "text/x-python",
   "name": "python",
   "nbconvert_exporter": "python",
   "pygments_lexer": "ipython3",
   "version": "3.11.4"
  }
 },
 "nbformat": 4,
 "nbformat_minor": 5
}
