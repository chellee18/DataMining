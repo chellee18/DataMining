{
 "cells": [
  {
   "cell_type": "markdown",
   "metadata": {
    "id": "h1Y8Kwjf59Up"
   },
   "source": [
    "# Week 4 : Classification Model\n",
    "\n",
    "\n",
    "---\n",
    "\n",
    "Today lab exercise will be using Penguin Dataset\n",
    "- Download the **Penguin Dataset** from Elearn\n",
    "- Upload the dataset to your own Github\n",
    "- Import the dataset using URL from your Github"
   ]
  },
  {
   "cell_type": "markdown",
   "metadata": {
    "id": "oQouvvr_buU-"
   },
   "source": [
    "**METADATA** <br>\n",
    "species: penguin species (Chinstrap, Adélie, or Gentoo) <br>\n",
    "culmen_length_mm: culmen length (mm) <br>\n",
    "culmen_depth_mm: culmen depth (mm) <br>\n",
    "flipper_length_mm: flipper length (mm) <br>\n",
    "body_mass_g: body mass (g) <br>\n",
    "island: island name (Dream, Torgersen, or Biscoe) in the Palmer Archipelago (Antarctica) <br>\n",
    "sex: penguin sex <br>\n",
    "\n",
    "What are culmen length & depth? <br>\n",
    "The culmen is \"the upper ridge of a bird's beak\" (definition from Oxford Languages)."
   ]
  },
  {
   "cell_type": "markdown",
   "metadata": {
    "id": "0XJDzp24daHv"
   },
   "source": [
    "## Import Libraries"
   ]
  },
  {
   "cell_type": "code",
   "execution_count": 1,
   "metadata": {
    "id": "8SjEHmFF3K4A"
   },
   "outputs": [],
   "source": [
    "import pandas as pd\n",
    "import matplotlib.pyplot as plt\n",
    "import seaborn as sns\n",
    "from sklearn.preprocessing import LabelEncoder\n",
    "from sklearn.model_selection import train_test_split\n",
    "from sklearn.tree import DecisionTreeClassifier\n",
    "from sklearn.metrics import accuracy_score\n",
    "from sklearn import tree\n",
    "from sklearn.metrics import confusion_matrix\n",
    "from sklearn.metrics import classification_report\n",
    "from sklearn.naive_bayes import GaussianNB"
   ]
  },
  {
   "cell_type": "markdown",
   "metadata": {
    "id": "IiBjPt_adgkF"
   },
   "source": [
    "## Load Dataset"
   ]
  },
  {
   "cell_type": "markdown",
   "metadata": {
    "id": "7knbp_QmeuVW"
   },
   "source": [
    "1. Import dataset <br>\n",
    "Display 10 sample rows from the dataset"
   ]
  },
  {
   "cell_type": "code",
   "execution_count": 2,
   "metadata": {
    "colab": {
     "base_uri": "https://localhost:8080/",
     "height": 363
    },
    "executionInfo": {
     "elapsed": 399,
     "status": "ok",
     "timestamp": 1728530738966,
     "user": {
      "displayName": "Michelle Chandra",
      "userId": "11686912257500406197"
     },
     "user_tz": -420
    },
    "id": "z3rRI6yqd7sR",
    "outputId": "d618591a-1659-4c1c-a2d4-e2b399f79861"
   },
   "outputs": [
    {
     "data": {
      "text/html": [
       "<div>\n",
       "<style scoped>\n",
       "    .dataframe tbody tr th:only-of-type {\n",
       "        vertical-align: middle;\n",
       "    }\n",
       "\n",
       "    .dataframe tbody tr th {\n",
       "        vertical-align: top;\n",
       "    }\n",
       "\n",
       "    .dataframe thead th {\n",
       "        text-align: right;\n",
       "    }\n",
       "</style>\n",
       "<table border=\"1\" class=\"dataframe\">\n",
       "  <thead>\n",
       "    <tr style=\"text-align: right;\">\n",
       "      <th></th>\n",
       "      <th>species</th>\n",
       "      <th>island</th>\n",
       "      <th>culmen_length_mm</th>\n",
       "      <th>culmen_depth_mm</th>\n",
       "      <th>flipper_length_mm</th>\n",
       "      <th>body_mass_g</th>\n",
       "      <th>sex</th>\n",
       "    </tr>\n",
       "  </thead>\n",
       "  <tbody>\n",
       "    <tr>\n",
       "      <th>311</th>\n",
       "      <td>Gentoo</td>\n",
       "      <td>Biscoe</td>\n",
       "      <td>52.2</td>\n",
       "      <td>17.1</td>\n",
       "      <td>228.0</td>\n",
       "      <td>5400.0</td>\n",
       "      <td>MALE</td>\n",
       "    </tr>\n",
       "    <tr>\n",
       "      <th>58</th>\n",
       "      <td>Adelie</td>\n",
       "      <td>Biscoe</td>\n",
       "      <td>36.5</td>\n",
       "      <td>16.6</td>\n",
       "      <td>181.0</td>\n",
       "      <td>2850.0</td>\n",
       "      <td>FEMALE</td>\n",
       "    </tr>\n",
       "    <tr>\n",
       "      <th>163</th>\n",
       "      <td>Chinstrap</td>\n",
       "      <td>Dream</td>\n",
       "      <td>51.7</td>\n",
       "      <td>20.3</td>\n",
       "      <td>194.0</td>\n",
       "      <td>3775.0</td>\n",
       "      <td>MALE</td>\n",
       "    </tr>\n",
       "    <tr>\n",
       "      <th>341</th>\n",
       "      <td>Gentoo</td>\n",
       "      <td>Biscoe</td>\n",
       "      <td>50.4</td>\n",
       "      <td>15.7</td>\n",
       "      <td>222.0</td>\n",
       "      <td>5750.0</td>\n",
       "      <td>MALE</td>\n",
       "    </tr>\n",
       "    <tr>\n",
       "      <th>222</th>\n",
       "      <td>Gentoo</td>\n",
       "      <td>Biscoe</td>\n",
       "      <td>48.7</td>\n",
       "      <td>14.1</td>\n",
       "      <td>210.0</td>\n",
       "      <td>4450.0</td>\n",
       "      <td>FEMALE</td>\n",
       "    </tr>\n",
       "    <tr>\n",
       "      <th>21</th>\n",
       "      <td>Adelie</td>\n",
       "      <td>Biscoe</td>\n",
       "      <td>37.7</td>\n",
       "      <td>18.7</td>\n",
       "      <td>180.0</td>\n",
       "      <td>3600.0</td>\n",
       "      <td>MALE</td>\n",
       "    </tr>\n",
       "    <tr>\n",
       "      <th>262</th>\n",
       "      <td>Gentoo</td>\n",
       "      <td>Biscoe</td>\n",
       "      <td>45.3</td>\n",
       "      <td>13.7</td>\n",
       "      <td>210.0</td>\n",
       "      <td>4300.0</td>\n",
       "      <td>FEMALE</td>\n",
       "    </tr>\n",
       "    <tr>\n",
       "      <th>124</th>\n",
       "      <td>Adelie</td>\n",
       "      <td>Torgersen</td>\n",
       "      <td>35.2</td>\n",
       "      <td>15.9</td>\n",
       "      <td>186.0</td>\n",
       "      <td>3050.0</td>\n",
       "      <td>FEMALE</td>\n",
       "    </tr>\n",
       "    <tr>\n",
       "      <th>270</th>\n",
       "      <td>Gentoo</td>\n",
       "      <td>Biscoe</td>\n",
       "      <td>46.6</td>\n",
       "      <td>14.2</td>\n",
       "      <td>210.0</td>\n",
       "      <td>4850.0</td>\n",
       "      <td>FEMALE</td>\n",
       "    </tr>\n",
       "    <tr>\n",
       "      <th>284</th>\n",
       "      <td>Gentoo</td>\n",
       "      <td>Biscoe</td>\n",
       "      <td>45.8</td>\n",
       "      <td>14.2</td>\n",
       "      <td>219.0</td>\n",
       "      <td>4700.0</td>\n",
       "      <td>FEMALE</td>\n",
       "    </tr>\n",
       "  </tbody>\n",
       "</table>\n",
       "</div>"
      ],
      "text/plain": [
       "       species     island  culmen_length_mm  culmen_depth_mm  \\\n",
       "311     Gentoo     Biscoe              52.2             17.1   \n",
       "58      Adelie     Biscoe              36.5             16.6   \n",
       "163  Chinstrap      Dream              51.7             20.3   \n",
       "341     Gentoo     Biscoe              50.4             15.7   \n",
       "222     Gentoo     Biscoe              48.7             14.1   \n",
       "21      Adelie     Biscoe              37.7             18.7   \n",
       "262     Gentoo     Biscoe              45.3             13.7   \n",
       "124     Adelie  Torgersen              35.2             15.9   \n",
       "270     Gentoo     Biscoe              46.6             14.2   \n",
       "284     Gentoo     Biscoe              45.8             14.2   \n",
       "\n",
       "     flipper_length_mm  body_mass_g     sex  \n",
       "311              228.0       5400.0    MALE  \n",
       "58               181.0       2850.0  FEMALE  \n",
       "163              194.0       3775.0    MALE  \n",
       "341              222.0       5750.0    MALE  \n",
       "222              210.0       4450.0  FEMALE  \n",
       "21               180.0       3600.0    MALE  \n",
       "262              210.0       4300.0  FEMALE  \n",
       "124              186.0       3050.0  FEMALE  \n",
       "270              210.0       4850.0  FEMALE  \n",
       "284              219.0       4700.0  FEMALE  "
      ]
     },
     "execution_count": 2,
     "metadata": {},
     "output_type": "execute_result"
    }
   ],
   "source": [
    "#1\n",
    "df = pd.read_csv('https://raw.githubusercontent.com/chellee18/DataMining/refs/heads/main/Week4/penguins_size.csv')\n",
    "df.sample(10)"
   ]
  },
  {
   "cell_type": "markdown",
   "metadata": {
    "id": "mM_ab2qpw303"
   },
   "source": [
    "## Exploratory Data Analysis"
   ]
  },
  {
   "cell_type": "markdown",
   "metadata": {
    "id": "2tsn8BVohEtn"
   },
   "source": [
    "2. Display the info column and conclude what the insight is from that column"
   ]
  },
  {
   "cell_type": "code",
   "execution_count": 3,
   "metadata": {
    "colab": {
     "base_uri": "https://localhost:8080/"
    },
    "executionInfo": {
     "elapsed": 14,
     "status": "ok",
     "timestamp": 1728530738966,
     "user": {
      "displayName": "Michelle Chandra",
      "userId": "11686912257500406197"
     },
     "user_tz": -420
    },
    "id": "elZk64cMfHWf",
    "outputId": "36a2e75f-9fca-45fd-b16a-ca76ae7467af"
   },
   "outputs": [
    {
     "name": "stdout",
     "output_type": "stream",
     "text": [
      "<class 'pandas.core.frame.DataFrame'>\n",
      "RangeIndex: 344 entries, 0 to 343\n",
      "Data columns (total 7 columns):\n",
      " #   Column             Non-Null Count  Dtype  \n",
      "---  ------             --------------  -----  \n",
      " 0   species            344 non-null    object \n",
      " 1   island             344 non-null    object \n",
      " 2   culmen_length_mm   342 non-null    float64\n",
      " 3   culmen_depth_mm    342 non-null    float64\n",
      " 4   flipper_length_mm  342 non-null    float64\n",
      " 5   body_mass_g        342 non-null    float64\n",
      " 6   sex                334 non-null    object \n",
      "dtypes: float64(4), object(3)\n",
      "memory usage: 18.9+ KB\n"
     ]
    }
   ],
   "source": [
    "df.info()"
   ]
  },
  {
   "cell_type": "markdown",
   "metadata": {
    "id": "qA3FaJK7wDFe"
   },
   "source": [
    "3. Show describe column and conclude what the insight is from that column"
   ]
  },
  {
   "cell_type": "code",
   "execution_count": 4,
   "metadata": {
    "colab": {
     "base_uri": "https://localhost:8080/",
     "height": 300
    },
    "executionInfo": {
     "elapsed": 13,
     "status": "ok",
     "timestamp": 1728530738966,
     "user": {
      "displayName": "Michelle Chandra",
      "userId": "11686912257500406197"
     },
     "user_tz": -420
    },
    "id": "sWWcrxsnvPk2",
    "outputId": "84ebcbee-e0fa-470a-ed96-b83d90d16959"
   },
   "outputs": [
    {
     "data": {
      "text/html": [
       "<div>\n",
       "<style scoped>\n",
       "    .dataframe tbody tr th:only-of-type {\n",
       "        vertical-align: middle;\n",
       "    }\n",
       "\n",
       "    .dataframe tbody tr th {\n",
       "        vertical-align: top;\n",
       "    }\n",
       "\n",
       "    .dataframe thead th {\n",
       "        text-align: right;\n",
       "    }\n",
       "</style>\n",
       "<table border=\"1\" class=\"dataframe\">\n",
       "  <thead>\n",
       "    <tr style=\"text-align: right;\">\n",
       "      <th></th>\n",
       "      <th>culmen_length_mm</th>\n",
       "      <th>culmen_depth_mm</th>\n",
       "      <th>flipper_length_mm</th>\n",
       "      <th>body_mass_g</th>\n",
       "    </tr>\n",
       "  </thead>\n",
       "  <tbody>\n",
       "    <tr>\n",
       "      <th>count</th>\n",
       "      <td>342.000000</td>\n",
       "      <td>342.000000</td>\n",
       "      <td>342.000000</td>\n",
       "      <td>342.000000</td>\n",
       "    </tr>\n",
       "    <tr>\n",
       "      <th>mean</th>\n",
       "      <td>43.921930</td>\n",
       "      <td>17.151170</td>\n",
       "      <td>200.915205</td>\n",
       "      <td>4201.754386</td>\n",
       "    </tr>\n",
       "    <tr>\n",
       "      <th>std</th>\n",
       "      <td>5.459584</td>\n",
       "      <td>1.974793</td>\n",
       "      <td>14.061714</td>\n",
       "      <td>801.954536</td>\n",
       "    </tr>\n",
       "    <tr>\n",
       "      <th>min</th>\n",
       "      <td>32.100000</td>\n",
       "      <td>13.100000</td>\n",
       "      <td>172.000000</td>\n",
       "      <td>2700.000000</td>\n",
       "    </tr>\n",
       "    <tr>\n",
       "      <th>25%</th>\n",
       "      <td>39.225000</td>\n",
       "      <td>15.600000</td>\n",
       "      <td>190.000000</td>\n",
       "      <td>3550.000000</td>\n",
       "    </tr>\n",
       "    <tr>\n",
       "      <th>50%</th>\n",
       "      <td>44.450000</td>\n",
       "      <td>17.300000</td>\n",
       "      <td>197.000000</td>\n",
       "      <td>4050.000000</td>\n",
       "    </tr>\n",
       "    <tr>\n",
       "      <th>75%</th>\n",
       "      <td>48.500000</td>\n",
       "      <td>18.700000</td>\n",
       "      <td>213.000000</td>\n",
       "      <td>4750.000000</td>\n",
       "    </tr>\n",
       "    <tr>\n",
       "      <th>max</th>\n",
       "      <td>59.600000</td>\n",
       "      <td>21.500000</td>\n",
       "      <td>231.000000</td>\n",
       "      <td>6300.000000</td>\n",
       "    </tr>\n",
       "  </tbody>\n",
       "</table>\n",
       "</div>"
      ],
      "text/plain": [
       "       culmen_length_mm  culmen_depth_mm  flipper_length_mm  body_mass_g\n",
       "count        342.000000       342.000000         342.000000   342.000000\n",
       "mean          43.921930        17.151170         200.915205  4201.754386\n",
       "std            5.459584         1.974793          14.061714   801.954536\n",
       "min           32.100000        13.100000         172.000000  2700.000000\n",
       "25%           39.225000        15.600000         190.000000  3550.000000\n",
       "50%           44.450000        17.300000         197.000000  4050.000000\n",
       "75%           48.500000        18.700000         213.000000  4750.000000\n",
       "max           59.600000        21.500000         231.000000  6300.000000"
      ]
     },
     "execution_count": 4,
     "metadata": {},
     "output_type": "execute_result"
    }
   ],
   "source": [
    "df.describe()"
   ]
  },
  {
   "cell_type": "markdown",
   "metadata": {
    "id": "84V-pFExxaBh"
   },
   "source": [
    "4. display the number of each unique value in species, island, and sex columns (including NaN)"
   ]
  },
  {
   "cell_type": "code",
   "execution_count": 5,
   "metadata": {
    "colab": {
     "base_uri": "https://localhost:8080/"
    },
    "executionInfo": {
     "elapsed": 12,
     "status": "ok",
     "timestamp": 1728530738966,
     "user": {
      "displayName": "Michelle Chandra",
      "userId": "11686912257500406197"
     },
     "user_tz": -420
    },
    "id": "_8d2JDFawKS8",
    "outputId": "8f2e9ae3-2807-4e73-a3da-50b504d50ae2"
   },
   "outputs": [
    {
     "name": "stdout",
     "output_type": "stream",
     "text": [
      "Adelie       152\n",
      "Gentoo       124\n",
      "Chinstrap     68\n",
      "Name: species, dtype: int64\n",
      "Biscoe       168\n",
      "Dream        124\n",
      "Torgersen     52\n",
      "Name: island, dtype: int64\n",
      "MALE      168\n",
      "FEMALE    165\n",
      ".           1\n",
      "Name: sex, dtype: int64\n"
     ]
    }
   ],
   "source": [
    "col_names = ['species', 'island', 'sex']\n",
    "\n",
    "for col in col_names:\n",
    "    \n",
    "    print(df[col].value_counts())"
   ]
  },
  {
   "cell_type": "markdown",
   "metadata": {
    "id": "IcseIaVqy1wM"
   },
   "source": [
    "5. Drop the null column(s)"
   ]
  },
  {
   "cell_type": "code",
   "execution_count": 6,
   "metadata": {
    "colab": {
     "base_uri": "https://localhost:8080/",
     "height": 304
    },
    "executionInfo": {
     "elapsed": 11,
     "status": "ok",
     "timestamp": 1728530738966,
     "user": {
      "displayName": "Michelle Chandra",
      "userId": "11686912257500406197"
     },
     "user_tz": -420
    },
    "id": "eDYyujd8zCd4",
    "outputId": "3356adda-4265-428c-c43a-8dd8a568f81e"
   },
   "outputs": [
    {
     "data": {
      "text/plain": [
       "species              0\n",
       "island               0\n",
       "culmen_length_mm     0\n",
       "culmen_depth_mm      0\n",
       "flipper_length_mm    0\n",
       "body_mass_g          0\n",
       "sex                  0\n",
       "dtype: int64"
      ]
     },
     "execution_count": 6,
     "metadata": {},
     "output_type": "execute_result"
    }
   ],
   "source": [
    "df.dropna(inplace=True)\n",
    "df.isnull().sum()"
   ]
  },
  {
   "cell_type": "markdown",
   "metadata": {
    "id": "fhi6LJz80Zgu"
   },
   "source": [
    "6. Change the value \".\" in sex column, try to predict it based on other features (try to groupby 'sex' with Gentoo species in describe)"
   ]
  },
  {
   "cell_type": "code",
   "execution_count": 7,
   "metadata": {
    "colab": {
     "base_uri": "https://localhost:8080/",
     "height": 81
    },
    "executionInfo": {
     "elapsed": 10,
     "status": "ok",
     "timestamp": 1728530738966,
     "user": {
      "displayName": "Michelle Chandra",
      "userId": "11686912257500406197"
     },
     "user_tz": -420
    },
    "id": "envVS9JMxsdV",
    "outputId": "7e909781-86b7-4b24-839d-8f50a859c315"
   },
   "outputs": [
    {
     "data": {
      "text/html": [
       "<div>\n",
       "<style scoped>\n",
       "    .dataframe tbody tr th:only-of-type {\n",
       "        vertical-align: middle;\n",
       "    }\n",
       "\n",
       "    .dataframe tbody tr th {\n",
       "        vertical-align: top;\n",
       "    }\n",
       "\n",
       "    .dataframe thead th {\n",
       "        text-align: right;\n",
       "    }\n",
       "</style>\n",
       "<table border=\"1\" class=\"dataframe\">\n",
       "  <thead>\n",
       "    <tr style=\"text-align: right;\">\n",
       "      <th></th>\n",
       "      <th>species</th>\n",
       "      <th>island</th>\n",
       "      <th>culmen_length_mm</th>\n",
       "      <th>culmen_depth_mm</th>\n",
       "      <th>flipper_length_mm</th>\n",
       "      <th>body_mass_g</th>\n",
       "      <th>sex</th>\n",
       "    </tr>\n",
       "  </thead>\n",
       "  <tbody>\n",
       "    <tr>\n",
       "      <th>336</th>\n",
       "      <td>Gentoo</td>\n",
       "      <td>Biscoe</td>\n",
       "      <td>44.5</td>\n",
       "      <td>15.7</td>\n",
       "      <td>217.0</td>\n",
       "      <td>4875.0</td>\n",
       "      <td>.</td>\n",
       "    </tr>\n",
       "  </tbody>\n",
       "</table>\n",
       "</div>"
      ],
      "text/plain": [
       "    species  island  culmen_length_mm  culmen_depth_mm  flipper_length_mm  \\\n",
       "336  Gentoo  Biscoe              44.5             15.7              217.0   \n",
       "\n",
       "     body_mass_g sex  \n",
       "336       4875.0   .  "
      ]
     },
     "execution_count": 7,
     "metadata": {},
     "output_type": "execute_result"
    }
   ],
   "source": [
    "df.loc[(df['species'] == 'Gentoo') & (df['sex'] == '.')]"
   ]
  },
  {
   "cell_type": "code",
   "execution_count": 8,
   "metadata": {
    "colab": {
     "base_uri": "https://localhost:8080/",
     "height": 1000
    },
    "executionInfo": {
     "elapsed": 10,
     "status": "ok",
     "timestamp": 1728530738966,
     "user": {
      "displayName": "Michelle Chandra",
      "userId": "11686912257500406197"
     },
     "user_tz": -420
    },
    "id": "kLbeZNcw1D4G",
    "outputId": "ba664866-f46c-4782-8a25-e1ffc4afe599"
   },
   "outputs": [
    {
     "data": {
      "text/html": [
       "<div>\n",
       "<style scoped>\n",
       "    .dataframe tbody tr th:only-of-type {\n",
       "        vertical-align: middle;\n",
       "    }\n",
       "\n",
       "    .dataframe tbody tr th {\n",
       "        vertical-align: top;\n",
       "    }\n",
       "\n",
       "    .dataframe thead th {\n",
       "        text-align: right;\n",
       "    }\n",
       "</style>\n",
       "<table border=\"1\" class=\"dataframe\">\n",
       "  <thead>\n",
       "    <tr style=\"text-align: right;\">\n",
       "      <th></th>\n",
       "      <th>sex</th>\n",
       "      <th>.</th>\n",
       "      <th>FEMALE</th>\n",
       "      <th>MALE</th>\n",
       "    </tr>\n",
       "  </thead>\n",
       "  <tbody>\n",
       "    <tr>\n",
       "      <th rowspan=\"8\" valign=\"top\">culmen_length_mm</th>\n",
       "      <th>count</th>\n",
       "      <td>1.0</td>\n",
       "      <td>58.000000</td>\n",
       "      <td>61.000000</td>\n",
       "    </tr>\n",
       "    <tr>\n",
       "      <th>mean</th>\n",
       "      <td>44.5</td>\n",
       "      <td>45.563793</td>\n",
       "      <td>49.473770</td>\n",
       "    </tr>\n",
       "    <tr>\n",
       "      <th>std</th>\n",
       "      <td>NaN</td>\n",
       "      <td>2.051247</td>\n",
       "      <td>2.720594</td>\n",
       "    </tr>\n",
       "    <tr>\n",
       "      <th>min</th>\n",
       "      <td>44.5</td>\n",
       "      <td>40.900000</td>\n",
       "      <td>44.400000</td>\n",
       "    </tr>\n",
       "    <tr>\n",
       "      <th>25%</th>\n",
       "      <td>44.5</td>\n",
       "      <td>43.850000</td>\n",
       "      <td>48.100000</td>\n",
       "    </tr>\n",
       "    <tr>\n",
       "      <th>50%</th>\n",
       "      <td>44.5</td>\n",
       "      <td>45.500000</td>\n",
       "      <td>49.500000</td>\n",
       "    </tr>\n",
       "    <tr>\n",
       "      <th>75%</th>\n",
       "      <td>44.5</td>\n",
       "      <td>46.875000</td>\n",
       "      <td>50.500000</td>\n",
       "    </tr>\n",
       "    <tr>\n",
       "      <th>max</th>\n",
       "      <td>44.5</td>\n",
       "      <td>50.500000</td>\n",
       "      <td>59.600000</td>\n",
       "    </tr>\n",
       "    <tr>\n",
       "      <th rowspan=\"8\" valign=\"top\">culmen_depth_mm</th>\n",
       "      <th>count</th>\n",
       "      <td>1.0</td>\n",
       "      <td>58.000000</td>\n",
       "      <td>61.000000</td>\n",
       "    </tr>\n",
       "    <tr>\n",
       "      <th>mean</th>\n",
       "      <td>15.7</td>\n",
       "      <td>14.237931</td>\n",
       "      <td>15.718033</td>\n",
       "    </tr>\n",
       "    <tr>\n",
       "      <th>std</th>\n",
       "      <td>NaN</td>\n",
       "      <td>0.540249</td>\n",
       "      <td>0.741060</td>\n",
       "    </tr>\n",
       "    <tr>\n",
       "      <th>min</th>\n",
       "      <td>15.7</td>\n",
       "      <td>13.100000</td>\n",
       "      <td>14.100000</td>\n",
       "    </tr>\n",
       "    <tr>\n",
       "      <th>25%</th>\n",
       "      <td>15.7</td>\n",
       "      <td>13.800000</td>\n",
       "      <td>15.200000</td>\n",
       "    </tr>\n",
       "    <tr>\n",
       "      <th>50%</th>\n",
       "      <td>15.7</td>\n",
       "      <td>14.250000</td>\n",
       "      <td>15.700000</td>\n",
       "    </tr>\n",
       "    <tr>\n",
       "      <th>75%</th>\n",
       "      <td>15.7</td>\n",
       "      <td>14.600000</td>\n",
       "      <td>16.100000</td>\n",
       "    </tr>\n",
       "    <tr>\n",
       "      <th>max</th>\n",
       "      <td>15.7</td>\n",
       "      <td>15.500000</td>\n",
       "      <td>17.300000</td>\n",
       "    </tr>\n",
       "    <tr>\n",
       "      <th rowspan=\"8\" valign=\"top\">flipper_length_mm</th>\n",
       "      <th>count</th>\n",
       "      <td>1.0</td>\n",
       "      <td>58.000000</td>\n",
       "      <td>61.000000</td>\n",
       "    </tr>\n",
       "    <tr>\n",
       "      <th>mean</th>\n",
       "      <td>217.0</td>\n",
       "      <td>212.706897</td>\n",
       "      <td>221.540984</td>\n",
       "    </tr>\n",
       "    <tr>\n",
       "      <th>std</th>\n",
       "      <td>NaN</td>\n",
       "      <td>3.897856</td>\n",
       "      <td>5.673252</td>\n",
       "    </tr>\n",
       "    <tr>\n",
       "      <th>min</th>\n",
       "      <td>217.0</td>\n",
       "      <td>203.000000</td>\n",
       "      <td>208.000000</td>\n",
       "    </tr>\n",
       "    <tr>\n",
       "      <th>25%</th>\n",
       "      <td>217.0</td>\n",
       "      <td>210.000000</td>\n",
       "      <td>218.000000</td>\n",
       "    </tr>\n",
       "    <tr>\n",
       "      <th>50%</th>\n",
       "      <td>217.0</td>\n",
       "      <td>212.000000</td>\n",
       "      <td>221.000000</td>\n",
       "    </tr>\n",
       "    <tr>\n",
       "      <th>75%</th>\n",
       "      <td>217.0</td>\n",
       "      <td>215.000000</td>\n",
       "      <td>225.000000</td>\n",
       "    </tr>\n",
       "    <tr>\n",
       "      <th>max</th>\n",
       "      <td>217.0</td>\n",
       "      <td>222.000000</td>\n",
       "      <td>231.000000</td>\n",
       "    </tr>\n",
       "    <tr>\n",
       "      <th rowspan=\"8\" valign=\"top\">body_mass_g</th>\n",
       "      <th>count</th>\n",
       "      <td>1.0</td>\n",
       "      <td>58.000000</td>\n",
       "      <td>61.000000</td>\n",
       "    </tr>\n",
       "    <tr>\n",
       "      <th>mean</th>\n",
       "      <td>4875.0</td>\n",
       "      <td>4679.741379</td>\n",
       "      <td>5484.836066</td>\n",
       "    </tr>\n",
       "    <tr>\n",
       "      <th>std</th>\n",
       "      <td>NaN</td>\n",
       "      <td>281.578294</td>\n",
       "      <td>313.158596</td>\n",
       "    </tr>\n",
       "    <tr>\n",
       "      <th>min</th>\n",
       "      <td>4875.0</td>\n",
       "      <td>3950.000000</td>\n",
       "      <td>4750.000000</td>\n",
       "    </tr>\n",
       "    <tr>\n",
       "      <th>25%</th>\n",
       "      <td>4875.0</td>\n",
       "      <td>4462.500000</td>\n",
       "      <td>5300.000000</td>\n",
       "    </tr>\n",
       "    <tr>\n",
       "      <th>50%</th>\n",
       "      <td>4875.0</td>\n",
       "      <td>4700.000000</td>\n",
       "      <td>5500.000000</td>\n",
       "    </tr>\n",
       "    <tr>\n",
       "      <th>75%</th>\n",
       "      <td>4875.0</td>\n",
       "      <td>4875.000000</td>\n",
       "      <td>5700.000000</td>\n",
       "    </tr>\n",
       "    <tr>\n",
       "      <th>max</th>\n",
       "      <td>4875.0</td>\n",
       "      <td>5200.000000</td>\n",
       "      <td>6300.000000</td>\n",
       "    </tr>\n",
       "  </tbody>\n",
       "</table>\n",
       "</div>"
      ],
      "text/plain": [
       "sex                           .       FEMALE         MALE\n",
       "culmen_length_mm  count     1.0    58.000000    61.000000\n",
       "                  mean     44.5    45.563793    49.473770\n",
       "                  std       NaN     2.051247     2.720594\n",
       "                  min      44.5    40.900000    44.400000\n",
       "                  25%      44.5    43.850000    48.100000\n",
       "                  50%      44.5    45.500000    49.500000\n",
       "                  75%      44.5    46.875000    50.500000\n",
       "                  max      44.5    50.500000    59.600000\n",
       "culmen_depth_mm   count     1.0    58.000000    61.000000\n",
       "                  mean     15.7    14.237931    15.718033\n",
       "                  std       NaN     0.540249     0.741060\n",
       "                  min      15.7    13.100000    14.100000\n",
       "                  25%      15.7    13.800000    15.200000\n",
       "                  50%      15.7    14.250000    15.700000\n",
       "                  75%      15.7    14.600000    16.100000\n",
       "                  max      15.7    15.500000    17.300000\n",
       "flipper_length_mm count     1.0    58.000000    61.000000\n",
       "                  mean    217.0   212.706897   221.540984\n",
       "                  std       NaN     3.897856     5.673252\n",
       "                  min     217.0   203.000000   208.000000\n",
       "                  25%     217.0   210.000000   218.000000\n",
       "                  50%     217.0   212.000000   221.000000\n",
       "                  75%     217.0   215.000000   225.000000\n",
       "                  max     217.0   222.000000   231.000000\n",
       "body_mass_g       count     1.0    58.000000    61.000000\n",
       "                  mean   4875.0  4679.741379  5484.836066\n",
       "                  std       NaN   281.578294   313.158596\n",
       "                  min    4875.0  3950.000000  4750.000000\n",
       "                  25%    4875.0  4462.500000  5300.000000\n",
       "                  50%    4875.0  4700.000000  5500.000000\n",
       "                  75%    4875.0  4875.000000  5700.000000\n",
       "                  max    4875.0  5200.000000  6300.000000"
      ]
     },
     "execution_count": 8,
     "metadata": {},
     "output_type": "execute_result"
    }
   ],
   "source": [
    "df[df['species'] == 'Gentoo' ].groupby('sex').describe().transpose()"
   ]
  },
  {
   "cell_type": "code",
   "execution_count": 9,
   "metadata": {
    "colab": {
     "base_uri": "https://localhost:8080/",
     "height": 304
    },
    "executionInfo": {
     "elapsed": 9,
     "status": "ok",
     "timestamp": 1728530738966,
     "user": {
      "displayName": "Michelle Chandra",
      "userId": "11686912257500406197"
     },
     "user_tz": -420
    },
    "id": "SOcE4Ydx1Rzv",
    "outputId": "ad3d59e4-bead-4003-889d-7c1556882b24"
   },
   "outputs": [
    {
     "data": {
      "text/plain": [
       "species              Gentoo\n",
       "island               Biscoe\n",
       "culmen_length_mm       44.5\n",
       "culmen_depth_mm        15.7\n",
       "flipper_length_mm     217.0\n",
       "body_mass_g          4875.0\n",
       "sex                  FEMALE\n",
       "Name: 336, dtype: object"
      ]
     },
     "execution_count": 9,
     "metadata": {},
     "output_type": "execute_result"
    }
   ],
   "source": [
    "df.loc[(df['species'] == 'Gentoo') & (df['sex'] == '.'), 'sex'] = 'FEMALE'\n",
    "\n",
    "(df.loc[336])"
   ]
  },
  {
   "cell_type": "markdown",
   "metadata": {
    "id": "zU4fNrxj3Ao_"
   },
   "source": [
    "7. Create your own insightful visualization and explain it in at least 2 sentences"
   ]
  },
  {
   "cell_type": "code",
   "execution_count": 10,
   "metadata": {
    "id": "D5wiYwBT1q9v"
   },
   "outputs": [
    {
     "data": {
      "image/png": "[encoded data removed]",
      "text/plain": [
       "<Figure size 640x480 with 1 Axes>"
      ]
     },
     "metadata": {},
     "output_type": "display_data"
    }
   ],
   "source": [
    "species_counts = df['species'].value_counts()\n",
    "\n",
    "species_counts.plot(kind='bar', color=['#FF9999', '#66B3FF', '#99FF99'])\n",
    "plt.title('Penguin Species Count')\n",
    "plt.xlabel('Species')\n",
    "plt.ylabel('Count')\n",
    "plt.xticks(rotation=0)\n",
    "plt.show()\n",
    "\n",
    "#Plot ini memvisualisasikan jumlah penguin untuk setiap spesies dalam set data. \n",
    "#Plot ini memberikan gambaran yang jelas mengenai distribusi spesies, menunjukkan spesies mana yang lebih umum."
   ]
  },
  {
   "cell_type": "markdown",
   "metadata": {
    "id": "yXgSr1vP3ufq"
   },
   "source": [
    "8. Check unique value of our target variable"
   ]
  },
  {
   "cell_type": "code",
   "execution_count": 11,
   "metadata": {
    "colab": {
     "base_uri": "https://localhost:8080/"
    },
    "executionInfo": {
     "elapsed": 9,
     "status": "ok",
     "timestamp": 1728530738966,
     "user": {
      "displayName": "Michelle Chandra",
      "userId": "11686912257500406197"
     },
     "user_tz": -420
    },
    "id": "lVS6vw7e4XsP",
    "outputId": "bc51e76e-1656-4780-eaae-fe48108d6c0c"
   },
   "outputs": [
    {
     "name": "stdout",
     "output_type": "stream",
     "text": [
      "['Adelie' 'Chinstrap' 'Gentoo']\n"
     ]
    }
   ],
   "source": [
    "unique_species = df['species'].unique()\n",
    "\n",
    "print(unique_species)"
   ]
  },
  {
   "cell_type": "markdown",
   "metadata": {
    "id": "fOnlbuOp4xQn"
   },
   "source": [
    "9. encode categorical columns and display the results"
   ]
  },
  {
   "cell_type": "code",
   "execution_count": 12,
   "metadata": {
    "colab": {
     "base_uri": "https://localhost:8080/",
     "height": 206
    },
    "executionInfo": {
     "elapsed": 8,
     "status": "ok",
     "timestamp": 1728530738966,
     "user": {
      "displayName": "Michelle Chandra",
      "userId": "11686912257500406197"
     },
     "user_tz": -420
    },
    "id": "ayfL0SLF4q7w",
    "outputId": "7e046851-4879-45c0-f89c-b81382f2c0d5"
   },
   "outputs": [
    {
     "data": {
      "text/html": [
       "<div>\n",
       "<style scoped>\n",
       "    .dataframe tbody tr th:only-of-type {\n",
       "        vertical-align: middle;\n",
       "    }\n",
       "\n",
       "    .dataframe tbody tr th {\n",
       "        vertical-align: top;\n",
       "    }\n",
       "\n",
       "    .dataframe thead th {\n",
       "        text-align: right;\n",
       "    }\n",
       "</style>\n",
       "<table border=\"1\" class=\"dataframe\">\n",
       "  <thead>\n",
       "    <tr style=\"text-align: right;\">\n",
       "      <th></th>\n",
       "      <th>species</th>\n",
       "      <th>island</th>\n",
       "      <th>culmen_length_mm</th>\n",
       "      <th>culmen_depth_mm</th>\n",
       "      <th>flipper_length_mm</th>\n",
       "      <th>body_mass_g</th>\n",
       "      <th>sex</th>\n",
       "    </tr>\n",
       "  </thead>\n",
       "  <tbody>\n",
       "    <tr>\n",
       "      <th>0</th>\n",
       "      <td>Adelie</td>\n",
       "      <td>2</td>\n",
       "      <td>39.1</td>\n",
       "      <td>18.7</td>\n",
       "      <td>181.0</td>\n",
       "      <td>3750.0</td>\n",
       "      <td>1</td>\n",
       "    </tr>\n",
       "    <tr>\n",
       "      <th>1</th>\n",
       "      <td>Adelie</td>\n",
       "      <td>2</td>\n",
       "      <td>39.5</td>\n",
       "      <td>17.4</td>\n",
       "      <td>186.0</td>\n",
       "      <td>3800.0</td>\n",
       "      <td>0</td>\n",
       "    </tr>\n",
       "    <tr>\n",
       "      <th>2</th>\n",
       "      <td>Adelie</td>\n",
       "      <td>2</td>\n",
       "      <td>40.3</td>\n",
       "      <td>18.0</td>\n",
       "      <td>195.0</td>\n",
       "      <td>3250.0</td>\n",
       "      <td>0</td>\n",
       "    </tr>\n",
       "    <tr>\n",
       "      <th>4</th>\n",
       "      <td>Adelie</td>\n",
       "      <td>2</td>\n",
       "      <td>36.7</td>\n",
       "      <td>19.3</td>\n",
       "      <td>193.0</td>\n",
       "      <td>3450.0</td>\n",
       "      <td>0</td>\n",
       "    </tr>\n",
       "    <tr>\n",
       "      <th>5</th>\n",
       "      <td>Adelie</td>\n",
       "      <td>2</td>\n",
       "      <td>39.3</td>\n",
       "      <td>20.6</td>\n",
       "      <td>190.0</td>\n",
       "      <td>3650.0</td>\n",
       "      <td>1</td>\n",
       "    </tr>\n",
       "  </tbody>\n",
       "</table>\n",
       "</div>"
      ],
      "text/plain": [
       "  species  island  culmen_length_mm  culmen_depth_mm  flipper_length_mm  \\\n",
       "0  Adelie       2              39.1             18.7              181.0   \n",
       "1  Adelie       2              39.5             17.4              186.0   \n",
       "2  Adelie       2              40.3             18.0              195.0   \n",
       "4  Adelie       2              36.7             19.3              193.0   \n",
       "5  Adelie       2              39.3             20.6              190.0   \n",
       "\n",
       "   body_mass_g  sex  \n",
       "0       3750.0    1  \n",
       "1       3800.0    0  \n",
       "2       3250.0    0  \n",
       "4       3450.0    0  \n",
       "5       3650.0    1  "
      ]
     },
     "execution_count": 12,
     "metadata": {},
     "output_type": "execute_result"
    }
   ],
   "source": [
    "label_encoder = LabelEncoder()\n",
    "\n",
    "df['island'] = label_encoder.fit_transform(df['island'])\n",
    "df['sex'] = label_encoder.fit_transform(df['sex'].astype(str)) \n",
    "\n",
    "df.head()"
   ]
  },
  {
   "cell_type": "markdown",
   "metadata": {
    "id": "jNMiamrJ8mLv"
   },
   "source": [
    "10. encode the target column and display the results"
   ]
  },
  {
   "cell_type": "code",
   "execution_count": 13,
   "metadata": {
    "colab": {
     "base_uri": "https://localhost:8080/",
     "height": 206
    },
    "executionInfo": {
     "elapsed": 7,
     "status": "ok",
     "timestamp": 1728530738966,
     "user": {
      "displayName": "Michelle Chandra",
      "userId": "11686912257500406197"
     },
     "user_tz": -420
    },
    "id": "mMy7g0Ii8lfQ",
    "outputId": "e7296496-caac-4aba-9b78-2047b19b0aeb"
   },
   "outputs": [
    {
     "data": {
      "text/html": [
       "<div>\n",
       "<style scoped>\n",
       "    .dataframe tbody tr th:only-of-type {\n",
       "        vertical-align: middle;\n",
       "    }\n",
       "\n",
       "    .dataframe tbody tr th {\n",
       "        vertical-align: top;\n",
       "    }\n",
       "\n",
       "    .dataframe thead th {\n",
       "        text-align: right;\n",
       "    }\n",
       "</style>\n",
       "<table border=\"1\" class=\"dataframe\">\n",
       "  <thead>\n",
       "    <tr style=\"text-align: right;\">\n",
       "      <th></th>\n",
       "      <th>species</th>\n",
       "      <th>island</th>\n",
       "      <th>culmen_length_mm</th>\n",
       "      <th>culmen_depth_mm</th>\n",
       "      <th>flipper_length_mm</th>\n",
       "      <th>body_mass_g</th>\n",
       "      <th>sex</th>\n",
       "    </tr>\n",
       "  </thead>\n",
       "  <tbody>\n",
       "    <tr>\n",
       "      <th>0</th>\n",
       "      <td>0</td>\n",
       "      <td>2</td>\n",
       "      <td>39.1</td>\n",
       "      <td>18.7</td>\n",
       "      <td>181.0</td>\n",
       "      <td>3750.0</td>\n",
       "      <td>1</td>\n",
       "    </tr>\n",
       "    <tr>\n",
       "      <th>1</th>\n",
       "      <td>0</td>\n",
       "      <td>2</td>\n",
       "      <td>39.5</td>\n",
       "      <td>17.4</td>\n",
       "      <td>186.0</td>\n",
       "      <td>3800.0</td>\n",
       "      <td>0</td>\n",
       "    </tr>\n",
       "    <tr>\n",
       "      <th>2</th>\n",
       "      <td>0</td>\n",
       "      <td>2</td>\n",
       "      <td>40.3</td>\n",
       "      <td>18.0</td>\n",
       "      <td>195.0</td>\n",
       "      <td>3250.0</td>\n",
       "      <td>0</td>\n",
       "    </tr>\n",
       "    <tr>\n",
       "      <th>4</th>\n",
       "      <td>0</td>\n",
       "      <td>2</td>\n",
       "      <td>36.7</td>\n",
       "      <td>19.3</td>\n",
       "      <td>193.0</td>\n",
       "      <td>3450.0</td>\n",
       "      <td>0</td>\n",
       "    </tr>\n",
       "    <tr>\n",
       "      <th>5</th>\n",
       "      <td>0</td>\n",
       "      <td>2</td>\n",
       "      <td>39.3</td>\n",
       "      <td>20.6</td>\n",
       "      <td>190.0</td>\n",
       "      <td>3650.0</td>\n",
       "      <td>1</td>\n",
       "    </tr>\n",
       "  </tbody>\n",
       "</table>\n",
       "</div>"
      ],
      "text/plain": [
       "   species  island  culmen_length_mm  culmen_depth_mm  flipper_length_mm  \\\n",
       "0        0       2              39.1             18.7              181.0   \n",
       "1        0       2              39.5             17.4              186.0   \n",
       "2        0       2              40.3             18.0              195.0   \n",
       "4        0       2              36.7             19.3              193.0   \n",
       "5        0       2              39.3             20.6              190.0   \n",
       "\n",
       "   body_mass_g  sex  \n",
       "0       3750.0    1  \n",
       "1       3800.0    0  \n",
       "2       3250.0    0  \n",
       "4       3450.0    0  \n",
       "5       3650.0    1  "
      ]
     },
     "execution_count": 13,
     "metadata": {},
     "output_type": "execute_result"
    }
   ],
   "source": [
    "label_encoder = LabelEncoder()\n",
    "\n",
    "df['species'] = label_encoder.fit_transform(df['species'])\n",
    "df['island'] = label_encoder.fit_transform(df['island'])\n",
    "df['sex'] = label_encoder.fit_transform(df['sex'].astype(str))  \n",
    "\n",
    "# Display the encoded DataFrame\n",
    "df.head()\n"
   ]
  },
  {
   "cell_type": "markdown",
   "metadata": {
    "id": "PlzPXYPr64NS"
   },
   "source": [
    "11. create a heatmap to see the correlation and explain the conclusion"
   ]
  },
  {
   "cell_type": "code",
   "execution_count": 14,
   "metadata": {
    "colab": {
     "base_uri": "https://localhost:8080/",
     "height": 576
    },
    "executionInfo": {
     "elapsed": 804,
     "status": "ok",
     "timestamp": 1728530739763,
     "user": {
      "displayName": "Michelle Chandra",
      "userId": "11686912257500406197"
     },
     "user_tz": -420
    },
    "id": "yRJUvFLN64NV",
    "outputId": "d3fb0816-14eb-4bef-d0bc-ae1c84c4638e"
   },
   "outputs": [
    {
     "data": {
      "image/png": "[encoded data removed]",
      "text/plain": [
       "<Figure size 1000x600 with 2 Axes>"
      ]
     },
     "metadata": {},
     "output_type": "display_data"
    }
   ],
   "source": [
    "plt.figure(figsize=(10, 6))\n",
    "correlation_matrix = df.corr()\n",
    "sns.heatmap(correlation_matrix, annot=True, fmt=\".2f\", cmap=\"coolwarm\", square=True, cbar_kws={\"shrink\": .8})\n",
    "\n",
    "# Add titles and labels\n",
    "plt.title(\"Correlation Heatmap of Penguin Dataset Features\")\n",
    "plt.show()"
   ]
  },
  {
   "cell_type": "markdown",
   "metadata": {
    "id": "BKy0HlrZ6rqj"
   },
   "source": [
    "## Machine Learning"
   ]
  },
  {
   "cell_type": "markdown",
   "metadata": {
    "id": "ln8CvbIu69i_"
   },
   "source": [
    "1. Splitting X and y"
   ]
  },
  {
   "cell_type": "code",
   "execution_count": 15,
   "metadata": {
    "id": "DBUqZNNf6Iph"
   },
   "outputs": [],
   "source": [
    "X = df.drop('species', axis=1)\n",
    "y = df['species'] "
   ]
  },
  {
   "cell_type": "markdown",
   "metadata": {
    "id": "IY70SFh69LPh"
   },
   "source": [
    "2. Split data into training and test set (test size 20% and random state 42) and check the shape of X_train and X_test"
   ]
  },
  {
   "cell_type": "code",
   "execution_count": 16,
   "metadata": {
    "id": "22OCTW3z9KoN"
   },
   "outputs": [],
   "source": [
    "X_train, X_test, y_train, y_test = train_test_split(X, y, test_size=0.20, random_state=42)"
   ]
  },
  {
   "cell_type": "code",
   "execution_count": 17,
   "metadata": {
    "colab": {
     "base_uri": "https://localhost:8080/"
    },
    "executionInfo": {
     "elapsed": 8,
     "status": "ok",
     "timestamp": 1728530739763,
     "user": {
      "displayName": "Michelle Chandra",
      "userId": "11686912257500406197"
     },
     "user_tz": -420
    },
    "id": "gmP5ccrv9zv2",
    "outputId": "522911b9-4f05-40fc-be4f-d847654d5389"
   },
   "outputs": [
    {
     "data": {
      "text/plain": [
       "((267, 6), (67, 6))"
      ]
     },
     "execution_count": 17,
     "metadata": {},
     "output_type": "execute_result"
    }
   ],
   "source": [
    "X_train.shape, X_test.shape"
   ]
  },
  {
   "cell_type": "markdown",
   "metadata": {
    "id": "u-BfryH_-mEa"
   },
   "source": [
    "## Desicion Tree\n",
    "\n",
    "\n",
    "---\n",
    "\n",
    "a. Defining the model using criterion Entropy and Gini Index <br>\n",
    "b. Predict the test set results <br>\n",
    "c. Check accuracy score <br>\n",
    "d. Check for overfitting and underfitting <br>\n",
    "e. Visualize decision trees <br>\n",
    "f. Confusion matrix <br>\n",
    "g. Classification report <br>\n",
    "h. Results and conclusion <br>"
   ]
  },
  {
   "cell_type": "markdown",
   "metadata": {
    "id": "Mv1RkXH2DNSx"
   },
   "source": [
    "1. Criterion Entropy"
   ]
  },
  {
   "cell_type": "code",
   "execution_count": 18,
   "metadata": {
    "colab": {
     "base_uri": "https://localhost:8080/",
     "height": 80
    },
    "executionInfo": {
     "elapsed": 7,
     "status": "ok",
     "timestamp": 1728530739763,
     "user": {
      "displayName": "Michelle Chandra",
      "userId": "11686912257500406197"
     },
     "user_tz": -420
    },
    "id": "OUgrpUO1DNS0",
    "outputId": "dfc08110-b275-4185-b6c4-9fe106b95433"
   },
   "outputs": [
    {
     "data": {
      "text/html": [
       "<style>#sk-container-id-1 {color: black;}#sk-container-id-1 pre{padding: 0;}#sk-container-id-1 div.sk-toggleable {background-color: white;}#sk-container-id-1 label.sk-toggleable__label {cursor: pointer;display: block;width: 100%;margin-bottom: 0;padding: 0.3em;box-sizing: border-box;text-align: center;}#sk-container-id-1 label.sk-toggleable__label-arrow:before {content: \"▸\";float: left;margin-right: 0.25em;color: #696969;}#sk-container-id-1 label.sk-toggleable__label-arrow:hover:before {color: black;}#sk-container-id-1 div.sk-estimator:hover label.sk-toggleable__label-arrow:before {color: black;}#sk-container-id-1 div.sk-toggleable__content {max-height: 0;max-width: 0;overflow: hidden;text-align: left;background-color: #f0f8ff;}#sk-container-id-1 div.sk-toggleable__content pre {margin: 0.2em;color: black;border-radius: 0.25em;background-color: #f0f8ff;}#sk-container-id-1 input.sk-toggleable__control:checked~div.sk-toggleable__content {max-height: 200px;max-width: 100%;overflow: auto;}#sk-container-id-1 input.sk-toggleable__control:checked~label.sk-toggleable__label-arrow:before {content: \"▾\";}#sk-container-id-1 div.sk-estimator input.sk-toggleable__control:checked~label.sk-toggleable__label {background-color: #d4ebff;}#sk-container-id-1 div.sk-label input.sk-toggleable__control:checked~label.sk-toggleable__label {background-color: #d4ebff;}#sk-container-id-1 input.sk-hidden--visually {border: 0;clip: rect(1px 1px 1px 1px);clip: rect(1px, 1px, 1px, 1px);height: 1px;margin: -1px;overflow: hidden;padding: 0;position: absolute;width: 1px;}#sk-container-id-1 div.sk-estimator {font-family: monospace;background-color: #f0f8ff;border: 1px dotted black;border-radius: 0.25em;box-sizing: border-box;margin-bottom: 0.5em;}#sk-container-id-1 div.sk-estimator:hover {background-color: #d4ebff;}#sk-container-id-1 div.sk-parallel-item::after {content: \"\";width: 100%;border-bottom: 1px solid gray;flex-grow: 1;}#sk-container-id-1 div.sk-label:hover label.sk-toggleable__label {background-color: #d4ebff;}#sk-container-id-1 div.sk-serial::before {content: \"\";position: absolute;border-left: 1px solid gray;box-sizing: border-box;top: 0;bottom: 0;left: 50%;z-index: 0;}#sk-container-id-1 div.sk-serial {display: flex;flex-direction: column;align-items: center;background-color: white;padding-right: 0.2em;padding-left: 0.2em;position: relative;}#sk-container-id-1 div.sk-item {position: relative;z-index: 1;}#sk-container-id-1 div.sk-parallel {display: flex;align-items: stretch;justify-content: center;background-color: white;position: relative;}#sk-container-id-1 div.sk-item::before, #sk-container-id-1 div.sk-parallel-item::before {content: \"\";position: absolute;border-left: 1px solid gray;box-sizing: border-box;top: 0;bottom: 0;left: 50%;z-index: -1;}#sk-container-id-1 div.sk-parallel-item {display: flex;flex-direction: column;z-index: 1;position: relative;background-color: white;}#sk-container-id-1 div.sk-parallel-item:first-child::after {align-self: flex-end;width: 50%;}#sk-container-id-1 div.sk-parallel-item:last-child::after {align-self: flex-start;width: 50%;}#sk-container-id-1 div.sk-parallel-item:only-child::after {width: 0;}#sk-container-id-1 div.sk-dashed-wrapped {border: 1px dashed gray;margin: 0 0.4em 0.5em 0.4em;box-sizing: border-box;padding-bottom: 0.4em;background-color: white;}#sk-container-id-1 div.sk-label label {font-family: monospace;font-weight: bold;display: inline-block;line-height: 1.2em;}#sk-container-id-1 div.sk-label-container {text-align: center;}#sk-container-id-1 div.sk-container {/* jupyter's `normalize.less` sets `[hidden] { display: none; }` but bootstrap.min.css set `[hidden] { display: none !important; }` so we also need the `!important` here to be able to override the default hidden behavior on the sphinx rendered scikit-learn.org. See: https://github.com/scikit-learn/scikit-learn/issues/21755 */display: inline-block !important;position: relative;}#sk-container-id-1 div.sk-text-repr-fallback {display: none;}</style><div id=\"sk-container-id-1\" class=\"sk-top-container\"><div class=\"sk-text-repr-fallback\"><pre>DecisionTreeClassifier(criterion=&#x27;entropy&#x27;, max_depth=3, random_state=0)</pre><b>In a Jupyter environment, please rerun this cell to show the HTML representation or trust the notebook. <br />On GitHub, the HTML representation is unable to render, please try loading this page with nbviewer.org.</b></div><div class=\"sk-container\" hidden><div class=\"sk-item\"><div class=\"sk-estimator sk-toggleable\"><input class=\"sk-toggleable__control sk-hidden--visually\" id=\"sk-estimator-id-1\" type=\"checkbox\" checked><label for=\"sk-estimator-id-1\" class=\"sk-toggleable__label sk-toggleable__label-arrow\">DecisionTreeClassifier</label><div class=\"sk-toggleable__content\"><pre>DecisionTreeClassifier(criterion=&#x27;entropy&#x27;, max_depth=3, random_state=0)</pre></div></div></div></div></div>"
      ],
      "text/plain": [
       "DecisionTreeClassifier(criterion='entropy', max_depth=3, random_state=0)"
      ]
     },
     "execution_count": 18,
     "metadata": {},
     "output_type": "execute_result"
    }
   ],
   "source": [
    "#a. Defining the model \n",
    "clf_en = DecisionTreeClassifier (criterion='entropy', max_depth=3, random_state=0)\n",
    "\n",
    "clf_en.fit(X_train, y_train)"
   ]
  },
  {
   "cell_type": "code",
   "execution_count": 19,
   "metadata": {
    "id": "lfIKnyGgDNS0"
   },
   "outputs": [],
   "source": [
    "#b. Predict the test set results\n",
    "y_pred_en = clf_en.predict(X_test)"
   ]
  },
  {
   "cell_type": "code",
   "execution_count": 20,
   "metadata": {
    "colab": {
     "base_uri": "https://localhost:8080/"
    },
    "executionInfo": {
     "elapsed": 6,
     "status": "ok",
     "timestamp": 1728530739763,
     "user": {
      "displayName": "Michelle Chandra",
      "userId": "11686912257500406197"
     },
     "user_tz": -420
    },
    "id": "-J_pemk3DNS1",
    "outputId": "4fa718aa-cc6e-4c3b-d8ac-800057c42eaa"
   },
   "outputs": [
    {
     "name": "stdout",
     "output_type": "stream",
     "text": [
      "Model accuracy score with criterion entropy: 0.9701\n"
     ]
    }
   ],
   "source": [
    "#c. Check accuracy score\n",
    "print('Model accuracy score with criterion entropy: {0:0.4f}'. format (accuracy_score(y_test, y_pred_en)))"
   ]
  },
  {
   "cell_type": "code",
   "execution_count": 21,
   "metadata": {
    "colab": {
     "base_uri": "https://localhost:8080/"
    },
    "executionInfo": {
     "elapsed": 5,
     "status": "ok",
     "timestamp": 1728530739763,
     "user": {
      "displayName": "Michelle Chandra",
      "userId": "11686912257500406197"
     },
     "user_tz": -420
    },
    "id": "llqjT4U8DNS1",
    "outputId": "f2c5f782-b218-4844-cbb6-d0a9f56a1c2d"
   },
   "outputs": [
    {
     "name": "stdout",
     "output_type": "stream",
     "text": [
      "Training set score: 0.9625\n",
      "Test set score: 0.9701\n"
     ]
    }
   ],
   "source": [
    "#d. Check for overfitting and underfitting\n",
    "print('Training set score: {:.4f}'.format(clf_en.score(X_train, y_train)))\n",
    "\n",
    "print('Test set score: {:.4f}'.format(clf_en.score(X_test, y_test)))"
   ]
  },
  {
   "cell_type": "code",
   "execution_count": 22,
   "metadata": {
    "colab": {
     "base_uri": "https://localhost:8080/",
     "height": 921
    },
    "executionInfo": {
     "elapsed": 1173,
     "status": "ok",
     "timestamp": 1728530740931,
     "user": {
      "displayName": "Michelle Chandra",
      "userId": "11686912257500406197"
     },
     "user_tz": -420
    },
    "id": "5OnRV7fPDNS1",
    "outputId": "1f2281d4-ff55-4ded-b8bb-c3a1ee1f59fe"
   },
   "outputs": [
    {
     "data": {
      "text/plain": [
       "[Text(0.5416666666666666, 0.875, 'x[3] <= 206.5\\nentropy = 1.524\\nsamples = 267\\nvalue = [115, 55, 97]'),\n",
       " Text(0.3333333333333333, 0.625, 'x[1] <= 42.35\\nentropy = 0.938\\nsamples = 164\\nvalue = [113, 50, 1]'),\n",
       " Text(0.16666666666666666, 0.375, 'x[2] <= 16.7\\nentropy = 0.078\\nsamples = 105\\nvalue = [104, 1, 0]'),\n",
       " Text(0.08333333333333333, 0.125, 'entropy = 0.592\\nsamples = 7\\nvalue = [6, 1, 0]'),\n",
       " Text(0.25, 0.125, 'entropy = 0.0\\nsamples = 98\\nvalue = [98, 0, 0]'),\n",
       " Text(0.5, 0.375, 'x[4] <= 4075.0\\nentropy = 0.736\\nsamples = 59\\nvalue = [9, 49, 1]'),\n",
       " Text(0.4166666666666667, 0.125, 'entropy = 0.159\\nsamples = 43\\nvalue = [1, 42, 0]'),\n",
       " Text(0.5833333333333334, 0.125, 'entropy = 1.272\\nsamples = 16\\nvalue = [8, 7, 1]'),\n",
       " Text(0.75, 0.625, 'x[2] <= 17.65\\nentropy = 0.417\\nsamples = 103\\nvalue = [2, 5, 96]'),\n",
       " Text(0.6666666666666666, 0.375, 'entropy = 0.0\\nsamples = 96\\nvalue = [0, 0, 96]'),\n",
       " Text(0.8333333333333334, 0.375, 'x[1] <= 46.55\\nentropy = 0.863\\nsamples = 7\\nvalue = [2, 5, 0]'),\n",
       " Text(0.75, 0.125, 'entropy = 0.0\\nsamples = 2\\nvalue = [2, 0, 0]'),\n",
       " Text(0.9166666666666666, 0.125, 'entropy = 0.0\\nsamples = 5\\nvalue = [0, 5, 0]')]"
      ]
     },
     "execution_count": 22,
     "metadata": {},
     "output_type": "execute_result"
    },
    {
     "data": {
      "image/png": "[encoded data removed]",
      "text/plain": [
       "<Figure size 1200x800 with 1 Axes>"
      ]
     },
     "metadata": {},
     "output_type": "display_data"
    }
   ],
   "source": [
    "#e. Visualize decision trees\n",
    "plt.figure(figsize=(12,8))\n",
    "tree.plot_tree(clf_en.fit(X_train, y_train))"
   ]
  },
  {
   "cell_type": "markdown",
   "metadata": {
    "id": "LUWSFRJJ_GnO"
   },
   "source": [
    "2. Criterion Gini index"
   ]
  },
  {
   "cell_type": "code",
   "execution_count": 23,
   "metadata": {
    "colab": {
     "base_uri": "https://localhost:8080/",
     "height": 80
    },
    "executionInfo": {
     "elapsed": 5,
     "status": "ok",
     "timestamp": 1728530740931,
     "user": {
      "displayName": "Michelle Chandra",
      "userId": "11686912257500406197"
     },
     "user_tz": -420
    },
    "id": "YAy3WI8u9oeL",
    "outputId": "2ffb45c7-2642-41ab-9212-c665f459b99c"
   },
   "outputs": [
    {
     "data": {
      "text/html": [
       "<style>#sk-container-id-2 {color: black;}#sk-container-id-2 pre{padding: 0;}#sk-container-id-2 div.sk-toggleable {background-color: white;}#sk-container-id-2 label.sk-toggleable__label {cursor: pointer;display: block;width: 100%;margin-bottom: 0;padding: 0.3em;box-sizing: border-box;text-align: center;}#sk-container-id-2 label.sk-toggleable__label-arrow:before {content: \"▸\";float: left;margin-right: 0.25em;color: #696969;}#sk-container-id-2 label.sk-toggleable__label-arrow:hover:before {color: black;}#sk-container-id-2 div.sk-estimator:hover label.sk-toggleable__label-arrow:before {color: black;}#sk-container-id-2 div.sk-toggleable__content {max-height: 0;max-width: 0;overflow: hidden;text-align: left;background-color: #f0f8ff;}#sk-container-id-2 div.sk-toggleable__content pre {margin: 0.2em;color: black;border-radius: 0.25em;background-color: #f0f8ff;}#sk-container-id-2 input.sk-toggleable__control:checked~div.sk-toggleable__content {max-height: 200px;max-width: 100%;overflow: auto;}#sk-container-id-2 input.sk-toggleable__control:checked~label.sk-toggleable__label-arrow:before {content: \"▾\";}#sk-container-id-2 div.sk-estimator input.sk-toggleable__control:checked~label.sk-toggleable__label {background-color: #d4ebff;}#sk-container-id-2 div.sk-label input.sk-toggleable__control:checked~label.sk-toggleable__label {background-color: #d4ebff;}#sk-container-id-2 input.sk-hidden--visually {border: 0;clip: rect(1px 1px 1px 1px);clip: rect(1px, 1px, 1px, 1px);height: 1px;margin: -1px;overflow: hidden;padding: 0;position: absolute;width: 1px;}#sk-container-id-2 div.sk-estimator {font-family: monospace;background-color: #f0f8ff;border: 1px dotted black;border-radius: 0.25em;box-sizing: border-box;margin-bottom: 0.5em;}#sk-container-id-2 div.sk-estimator:hover {background-color: #d4ebff;}#sk-container-id-2 div.sk-parallel-item::after {content: \"\";width: 100%;border-bottom: 1px solid gray;flex-grow: 1;}#sk-container-id-2 div.sk-label:hover label.sk-toggleable__label {background-color: #d4ebff;}#sk-container-id-2 div.sk-serial::before {content: \"\";position: absolute;border-left: 1px solid gray;box-sizing: border-box;top: 0;bottom: 0;left: 50%;z-index: 0;}#sk-container-id-2 div.sk-serial {display: flex;flex-direction: column;align-items: center;background-color: white;padding-right: 0.2em;padding-left: 0.2em;position: relative;}#sk-container-id-2 div.sk-item {position: relative;z-index: 1;}#sk-container-id-2 div.sk-parallel {display: flex;align-items: stretch;justify-content: center;background-color: white;position: relative;}#sk-container-id-2 div.sk-item::before, #sk-container-id-2 div.sk-parallel-item::before {content: \"\";position: absolute;border-left: 1px solid gray;box-sizing: border-box;top: 0;bottom: 0;left: 50%;z-index: -1;}#sk-container-id-2 div.sk-parallel-item {display: flex;flex-direction: column;z-index: 1;position: relative;background-color: white;}#sk-container-id-2 div.sk-parallel-item:first-child::after {align-self: flex-end;width: 50%;}#sk-container-id-2 div.sk-parallel-item:last-child::after {align-self: flex-start;width: 50%;}#sk-container-id-2 div.sk-parallel-item:only-child::after {width: 0;}#sk-container-id-2 div.sk-dashed-wrapped {border: 1px dashed gray;margin: 0 0.4em 0.5em 0.4em;box-sizing: border-box;padding-bottom: 0.4em;background-color: white;}#sk-container-id-2 div.sk-label label {font-family: monospace;font-weight: bold;display: inline-block;line-height: 1.2em;}#sk-container-id-2 div.sk-label-container {text-align: center;}#sk-container-id-2 div.sk-container {/* jupyter's `normalize.less` sets `[hidden] { display: none; }` but bootstrap.min.css set `[hidden] { display: none !important; }` so we also need the `!important` here to be able to override the default hidden behavior on the sphinx rendered scikit-learn.org. See: https://github.com/scikit-learn/scikit-learn/issues/21755 */display: inline-block !important;position: relative;}#sk-container-id-2 div.sk-text-repr-fallback {display: none;}</style><div id=\"sk-container-id-2\" class=\"sk-top-container\"><div class=\"sk-text-repr-fallback\"><pre>DecisionTreeClassifier(max_depth=3, random_state=0)</pre><b>In a Jupyter environment, please rerun this cell to show the HTML representation or trust the notebook. <br />On GitHub, the HTML representation is unable to render, please try loading this page with nbviewer.org.</b></div><div class=\"sk-container\" hidden><div class=\"sk-item\"><div class=\"sk-estimator sk-toggleable\"><input class=\"sk-toggleable__control sk-hidden--visually\" id=\"sk-estimator-id-2\" type=\"checkbox\" checked><label for=\"sk-estimator-id-2\" class=\"sk-toggleable__label sk-toggleable__label-arrow\">DecisionTreeClassifier</label><div class=\"sk-toggleable__content\"><pre>DecisionTreeClassifier(max_depth=3, random_state=0)</pre></div></div></div></div></div>"
      ],
      "text/plain": [
       "DecisionTreeClassifier(max_depth=3, random_state=0)"
      ]
     },
     "execution_count": 23,
     "metadata": {},
     "output_type": "execute_result"
    }
   ],
   "source": [
    "#a. Defining the model \n",
    "clf_gini = DecisionTreeClassifier (criterion='gini', max_depth=3, random_state=0)\n",
    "\n",
    "clf_gini.fit(X_train, y_train)"
   ]
  },
  {
   "cell_type": "code",
   "execution_count": 24,
   "metadata": {
    "id": "nNVmzJti_qUt"
   },
   "outputs": [],
   "source": [
    "#b. Predict the test set results\n",
    "y_pred_gini = clf_gini.predict(X_test)"
   ]
  },
  {
   "cell_type": "code",
   "execution_count": 25,
   "metadata": {
    "colab": {
     "base_uri": "https://localhost:8080/"
    },
    "executionInfo": {
     "elapsed": 4,
     "status": "ok",
     "timestamp": 1728530740931,
     "user": {
      "displayName": "Michelle Chandra",
      "userId": "11686912257500406197"
     },
     "user_tz": -420
    },
    "id": "r8P2CTt3_8XK",
    "outputId": "8ea4303e-9928-413e-805b-e0d351659c9d"
   },
   "outputs": [
    {
     "name": "stdout",
     "output_type": "stream",
     "text": [
      "Model accuracy score with criterion entropy: 0.9851\n"
     ]
    }
   ],
   "source": [
    "#c. Check accuracy score\n",
    "print('Model accuracy score with criterion entropy: {0:0.4f}'. format (accuracy_score(y_test, y_pred_gini)))"
   ]
  },
  {
   "cell_type": "code",
   "execution_count": 26,
   "metadata": {
    "colab": {
     "base_uri": "https://localhost:8080/"
    },
    "executionInfo": {
     "elapsed": 3,
     "status": "ok",
     "timestamp": 1728530740931,
     "user": {
      "displayName": "Michelle Chandra",
      "userId": "11686912257500406197"
     },
     "user_tz": -420
    },
    "id": "SgyLXcj-Aeo_",
    "outputId": "78e36a00-e8d1-464b-9257-6a567c7d1f4e"
   },
   "outputs": [
    {
     "name": "stdout",
     "output_type": "stream",
     "text": [
      "Training set score: 0.9738\n",
      "Test set score: 0.9851\n"
     ]
    }
   ],
   "source": [
    "#d. Check for overfitting and underfitting\n",
    "print('Training set score: {:.4f}'.format(clf_gini.score(X_train, y_train)))\n",
    "\n",
    "print('Test set score: {:.4f}'.format(clf_gini.score(X_test, y_test)))"
   ]
  },
  {
   "cell_type": "code",
   "execution_count": 27,
   "metadata": {
    "colab": {
     "base_uri": "https://localhost:8080/",
     "height": 921
    },
    "executionInfo": {
     "elapsed": 1003,
     "status": "ok",
     "timestamp": 1728530741931,
     "user": {
      "displayName": "Michelle Chandra",
      "userId": "11686912257500406197"
     },
     "user_tz": -420
    },
    "id": "FbZA9KWcA_TV",
    "outputId": "0c529a61-09b6-405b-c891-04fc03eb8bfd"
   },
   "outputs": [
    {
     "data": {
      "text/plain": [
       "[Text(0.5416666666666666, 0.875, 'x[3] <= 206.5\\ngini = 0.64\\nsamples = 267\\nvalue = [115, 55, 97]'),\n",
       " Text(0.3333333333333333, 0.625, 'x[1] <= 43.35\\ngini = 0.432\\nsamples = 164\\nvalue = [113, 50, 1]'),\n",
       " Text(0.16666666666666666, 0.375, 'x[1] <= 42.35\\ngini = 0.068\\nsamples = 113\\nvalue = [109, 4, 0]'),\n",
       " Text(0.08333333333333333, 0.125, 'gini = 0.019\\nsamples = 105\\nvalue = [104, 1, 0]'),\n",
       " Text(0.25, 0.125, 'gini = 0.469\\nsamples = 8\\nvalue = [5, 3, 0]'),\n",
       " Text(0.5, 0.375, 'x[0] <= 1.5\\ngini = 0.18\\nsamples = 51\\nvalue = [4, 46, 1]'),\n",
       " Text(0.4166666666666667, 0.125, 'gini = 0.117\\nsamples = 49\\nvalue = [2, 46, 1]'),\n",
       " Text(0.5833333333333334, 0.125, 'gini = 0.0\\nsamples = 2\\nvalue = [2, 0, 0]'),\n",
       " Text(0.75, 0.625, 'x[2] <= 17.65\\ngini = 0.129\\nsamples = 103\\nvalue = [2, 5, 96]'),\n",
       " Text(0.6666666666666666, 0.375, 'gini = 0.0\\nsamples = 96\\nvalue = [0, 0, 96]'),\n",
       " Text(0.8333333333333334, 0.375, 'x[1] <= 46.55\\ngini = 0.408\\nsamples = 7\\nvalue = [2, 5, 0]'),\n",
       " Text(0.75, 0.125, 'gini = 0.0\\nsamples = 2\\nvalue = [2, 0, 0]'),\n",
       " Text(0.9166666666666666, 0.125, 'gini = 0.0\\nsamples = 5\\nvalue = [0, 5, 0]')]"
      ]
     },
     "execution_count": 27,
     "metadata": {},
     "output_type": "execute_result"
    },
    {
     "data": {
      "image/png": "[encoded data removed]",
      "text/plain": [
       "<Figure size 1200x800 with 1 Axes>"
      ]
     },
     "metadata": {},
     "output_type": "display_data"
    }
   ],
   "source": [
    "#e. Visualize decision trees\n",
    "plt.figure(figsize=(12,8))\n",
    "tree.plot_tree(clf_gini.fit(X_train, y_train))"
   ]
  },
  {
   "cell_type": "markdown",
   "metadata": {
    "id": "BApDsmREF38m"
   },
   "source": [
    "3. Confusion matrix and classification report of criterion Entropy and Gini index"
   ]
  },
  {
   "cell_type": "code",
   "execution_count": 28,
   "metadata": {
    "colab": {
     "base_uri": "https://localhost:8080/"
    },
    "executionInfo": {
     "elapsed": 9,
     "status": "ok",
     "timestamp": 1728530741931,
     "user": {
      "displayName": "Michelle Chandra",
      "userId": "11686912257500406197"
     },
     "user_tz": -420
    },
    "id": "FgPi1FheBaCX",
    "outputId": "90acf409-db7d-4d7f-df71-d8a6dec7796a"
   },
   "outputs": [
    {
     "name": "stdout",
     "output_type": "stream",
     "text": [
      "Confusion Matrix Entropy:\n",
      "[[30  1  0]\n",
      " [ 1 12  0]\n",
      " [ 0  0 23]]\n",
      "Confusion Matrix Gini Index:\n",
      "[[31  0  0]\n",
      " [ 1 12  0]\n",
      " [ 0  0 23]]\n"
     ]
    }
   ],
   "source": [
    "#f. Confusion matrix\n",
    "cm_en = confusion_matrix(y_test, y_pred_en)\n",
    "print(\"Confusion Matrix Entropy:\")\n",
    "print(cm_en)\n",
    "\n",
    "cm_gini = confusion_matrix(y_test, y_pred_gini)\n",
    "print(\"Confusion Matrix Gini Index:\")\n",
    "print(cm_gini)"
   ]
  },
  {
   "cell_type": "code",
   "execution_count": 29,
   "metadata": {
    "colab": {
     "base_uri": "https://localhost:8080/"
    },
    "executionInfo": {
     "elapsed": 8,
     "status": "ok",
     "timestamp": 1728530741931,
     "user": {
      "displayName": "Michelle Chandra",
      "userId": "11686912257500406197"
     },
     "user_tz": -420
    },
    "id": "AAaF4ywoGWQc",
    "outputId": "c8e8abb4-73cc-422f-945d-77e67e828872"
   },
   "outputs": [
    {
     "name": "stdout",
     "output_type": "stream",
     "text": [
      "Classification Report Entropy\n",
      "              precision    recall  f1-score   support\n",
      "\n",
      "           0       0.97      0.97      0.97        31\n",
      "           1       0.92      0.92      0.92        13\n",
      "           2       1.00      1.00      1.00        23\n",
      "\n",
      "    accuracy                           0.97        67\n",
      "   macro avg       0.96      0.96      0.96        67\n",
      "weighted avg       0.97      0.97      0.97        67\n",
      "\n",
      "\n",
      "Classification Report Gini Index\n",
      "              precision    recall  f1-score   support\n",
      "\n",
      "           0       0.97      1.00      0.98        31\n",
      "           1       1.00      0.92      0.96        13\n",
      "           2       1.00      1.00      1.00        23\n",
      "\n",
      "    accuracy                           0.99        67\n",
      "   macro avg       0.99      0.97      0.98        67\n",
      "weighted avg       0.99      0.99      0.98        67\n",
      "\n"
     ]
    }
   ],
   "source": [
    "#g. Classification Report\n",
    "print(\"Classification Report Entropy\")\n",
    "print(classification_report(y_test, y_pred_en))\n",
    "\n",
    "print(\"\\nClassification Report Gini Index\")\n",
    "print(classification_report(y_test, y_pred_gini))"
   ]
  },
  {
   "cell_type": "code",
   "execution_count": 30,
   "metadata": {},
   "outputs": [],
   "source": [
    "#h. Result and Conclusion\n",
    "#Model Decision Tree dengan kriteria Entropy mencapai akurasi 97%, sedangkan dengan Gini Index mencapai 99%. \n",
    "#Model Gini lebih akurat, dengan sedikit kesalahan pada kelas 1, sementara Entropy membuat satu kesalahan pada kelas 0 dan 1. \n",
    "#Secara keseluruhan, kriteria Gini memberikan hasil yang lebih baik dalam hal akurasi dan prediksi yang lebih tepat."
   ]
  },
  {
   "cell_type": "markdown",
   "metadata": {
    "id": "iKogq_tIPt-a"
   },
   "source": [
    "## Naive Bayes\n",
    "\n",
    "\n",
    "---\n",
    "\n",
    "a. Defining the model <br>\n",
    "b. Predict the test set results <br>\n",
    "c. Check accuracy score <br>\n",
    "d. Confusion matrix <br>\n",
    "e. Classification report <br>\n",
    "f. Results and conclusion <br>\n",
    "\n",
    "library : from sklearn.naive_bayes import GaussianNB"
   ]
  },
  {
   "cell_type": "code",
   "execution_count": 31,
   "metadata": {
    "colab": {
     "base_uri": "https://localhost:8080/",
     "height": 80
    },
    "executionInfo": {
     "elapsed": 8,
     "status": "ok",
     "timestamp": 1728530741932,
     "user": {
      "displayName": "Michelle Chandra",
      "userId": "11686912257500406197"
     },
     "user_tz": -420
    },
    "id": "ZipMYRYUbXFf",
    "outputId": "3112de41-ec81-4f75-f661-9520660e0c52"
   },
   "outputs": [
    {
     "data": {
      "text/html": [
       "<style>#sk-container-id-3 {color: black;}#sk-container-id-3 pre{padding: 0;}#sk-container-id-3 div.sk-toggleable {background-color: white;}#sk-container-id-3 label.sk-toggleable__label {cursor: pointer;display: block;width: 100%;margin-bottom: 0;padding: 0.3em;box-sizing: border-box;text-align: center;}#sk-container-id-3 label.sk-toggleable__label-arrow:before {content: \"▸\";float: left;margin-right: 0.25em;color: #696969;}#sk-container-id-3 label.sk-toggleable__label-arrow:hover:before {color: black;}#sk-container-id-3 div.sk-estimator:hover label.sk-toggleable__label-arrow:before {color: black;}#sk-container-id-3 div.sk-toggleable__content {max-height: 0;max-width: 0;overflow: hidden;text-align: left;background-color: #f0f8ff;}#sk-container-id-3 div.sk-toggleable__content pre {margin: 0.2em;color: black;border-radius: 0.25em;background-color: #f0f8ff;}#sk-container-id-3 input.sk-toggleable__control:checked~div.sk-toggleable__content {max-height: 200px;max-width: 100%;overflow: auto;}#sk-container-id-3 input.sk-toggleable__control:checked~label.sk-toggleable__label-arrow:before {content: \"▾\";}#sk-container-id-3 div.sk-estimator input.sk-toggleable__control:checked~label.sk-toggleable__label {background-color: #d4ebff;}#sk-container-id-3 div.sk-label input.sk-toggleable__control:checked~label.sk-toggleable__label {background-color: #d4ebff;}#sk-container-id-3 input.sk-hidden--visually {border: 0;clip: rect(1px 1px 1px 1px);clip: rect(1px, 1px, 1px, 1px);height: 1px;margin: -1px;overflow: hidden;padding: 0;position: absolute;width: 1px;}#sk-container-id-3 div.sk-estimator {font-family: monospace;background-color: #f0f8ff;border: 1px dotted black;border-radius: 0.25em;box-sizing: border-box;margin-bottom: 0.5em;}#sk-container-id-3 div.sk-estimator:hover {background-color: #d4ebff;}#sk-container-id-3 div.sk-parallel-item::after {content: \"\";width: 100%;border-bottom: 1px solid gray;flex-grow: 1;}#sk-container-id-3 div.sk-label:hover label.sk-toggleable__label {background-color: #d4ebff;}#sk-container-id-3 div.sk-serial::before {content: \"\";position: absolute;border-left: 1px solid gray;box-sizing: border-box;top: 0;bottom: 0;left: 50%;z-index: 0;}#sk-container-id-3 div.sk-serial {display: flex;flex-direction: column;align-items: center;background-color: white;padding-right: 0.2em;padding-left: 0.2em;position: relative;}#sk-container-id-3 div.sk-item {position: relative;z-index: 1;}#sk-container-id-3 div.sk-parallel {display: flex;align-items: stretch;justify-content: center;background-color: white;position: relative;}#sk-container-id-3 div.sk-item::before, #sk-container-id-3 div.sk-parallel-item::before {content: \"\";position: absolute;border-left: 1px solid gray;box-sizing: border-box;top: 0;bottom: 0;left: 50%;z-index: -1;}#sk-container-id-3 div.sk-parallel-item {display: flex;flex-direction: column;z-index: 1;position: relative;background-color: white;}#sk-container-id-3 div.sk-parallel-item:first-child::after {align-self: flex-end;width: 50%;}#sk-container-id-3 div.sk-parallel-item:last-child::after {align-self: flex-start;width: 50%;}#sk-container-id-3 div.sk-parallel-item:only-child::after {width: 0;}#sk-container-id-3 div.sk-dashed-wrapped {border: 1px dashed gray;margin: 0 0.4em 0.5em 0.4em;box-sizing: border-box;padding-bottom: 0.4em;background-color: white;}#sk-container-id-3 div.sk-label label {font-family: monospace;font-weight: bold;display: inline-block;line-height: 1.2em;}#sk-container-id-3 div.sk-label-container {text-align: center;}#sk-container-id-3 div.sk-container {/* jupyter's `normalize.less` sets `[hidden] { display: none; }` but bootstrap.min.css set `[hidden] { display: none !important; }` so we also need the `!important` here to be able to override the default hidden behavior on the sphinx rendered scikit-learn.org. See: https://github.com/scikit-learn/scikit-learn/issues/21755 */display: inline-block !important;position: relative;}#sk-container-id-3 div.sk-text-repr-fallback {display: none;}</style><div id=\"sk-container-id-3\" class=\"sk-top-container\"><div class=\"sk-text-repr-fallback\"><pre>GaussianNB()</pre><b>In a Jupyter environment, please rerun this cell to show the HTML representation or trust the notebook. <br />On GitHub, the HTML representation is unable to render, please try loading this page with nbviewer.org.</b></div><div class=\"sk-container\" hidden><div class=\"sk-item\"><div class=\"sk-estimator sk-toggleable\"><input class=\"sk-toggleable__control sk-hidden--visually\" id=\"sk-estimator-id-3\" type=\"checkbox\" checked><label for=\"sk-estimator-id-3\" class=\"sk-toggleable__label sk-toggleable__label-arrow\">GaussianNB</label><div class=\"sk-toggleable__content\"><pre>GaussianNB()</pre></div></div></div></div></div>"
      ],
      "text/plain": [
       "GaussianNB()"
      ]
     },
     "execution_count": 31,
     "metadata": {},
     "output_type": "execute_result"
    }
   ],
   "source": [
    "#a. Defining the model\n",
    "nb_classifier = GaussianNB()\n",
    "nb_classifier.fit (X_train, y_train)"
   ]
  },
  {
   "cell_type": "code",
   "execution_count": 32,
   "metadata": {},
   "outputs": [],
   "source": [
    "#b. Predict the test set results\n",
    "nb_y_pred = nb_classifier.predict(X_test)"
   ]
  },
  {
   "cell_type": "code",
   "execution_count": 33,
   "metadata": {
    "colab": {
     "base_uri": "https://localhost:8080/"
    },
    "executionInfo": {
     "elapsed": 7,
     "status": "ok",
     "timestamp": 1728530741932,
     "user": {
      "displayName": "Michelle Chandra",
      "userId": "11686912257500406197"
     },
     "user_tz": -420
    },
    "id": "MpIf0cN8bzlT",
    "outputId": "055c2232-1c3a-4ee2-c0a5-3a520cc46519"
   },
   "outputs": [
    {
     "name": "stdout",
     "output_type": "stream",
     "text": [
      "Confusion Matrix:\n",
      "[[31  0  0]\n",
      " [ 0 13  0]\n",
      " [ 0  0 23]]\n",
      "Accuracy Score: 1.0\n"
     ]
    }
   ],
   "source": [
    "#c. check accuracy score\n",
    "cm = confusion_matrix(y_test, nb_y_pred)\n",
    "accuracy = accuracy_score(y_test, nb_y_pred)\n",
    "\n",
    "#d. confusion matrix\n",
    "print(\"Confusion Matrix:\")\n",
    "print(cm)\n",
    "print(\"Accuracy Score:\", accuracy)"
   ]
  },
  {
   "cell_type": "code",
   "execution_count": 34,
   "metadata": {
    "colab": {
     "base_uri": "https://localhost:8080/"
    },
    "executionInfo": {
     "elapsed": 6,
     "status": "ok",
     "timestamp": 1728530741932,
     "user": {
      "displayName": "Michelle Chandra",
      "userId": "11686912257500406197"
     },
     "user_tz": -420
    },
    "id": "K4ydRrFHb3DB",
    "outputId": "4c2fc126-51fc-430b-b315-908c274d4162",
    "scrolled": true
   },
   "outputs": [
    {
     "name": "stdout",
     "output_type": "stream",
     "text": [
      "              precision    recall  f1-score   support\n",
      "\n",
      "           0       1.00      1.00      1.00        31\n",
      "           1       1.00      1.00      1.00        13\n",
      "           2       1.00      1.00      1.00        23\n",
      "\n",
      "    accuracy                           1.00        67\n",
      "   macro avg       1.00      1.00      1.00        67\n",
      "weighted avg       1.00      1.00      1.00        67\n",
      "\n"
     ]
    }
   ],
   "source": [
    "#e. Classification report\n",
    "print(classification_report(y_test, nb_y_pred))"
   ]
  },
  {
   "cell_type": "code",
   "execution_count": 35,
   "metadata": {},
   "outputs": [],
   "source": [
    "#f. Result and conclusion\n",
    "#Model Gaussian Naive Bayes menghasilkan akurasi sempurna (100%) pada dataset uji, \n",
    "#dengan semua sampel diklasifikasikan dengan benar dan confusion matrix yang bersih. Precision, recall, \n",
    "#dan F1-score untuk setiap kelas juga mencapai nilai maksimal. Hasil ini menunjukkan kinerja yang sangat baik, \n",
    "#meskipun akurasi sempurna mungkin mengindikasikan kemungkinan overfitting dan perlu diuji lebih lanjut pada dataset lain."
   ]
  },
  {
   "cell_type": "markdown",
   "metadata": {
    "id": "pvqLl3tYdUbf"
   },
   "source": [
    "Good Luck :)"
   ]
  }
 ],
 "metadata": {
  "colab": {
   "authorship_tag": "ABX9TyOfUwo1g/YUVM2y8OI75zjU",
   "provenance": []
  },
  "kernelspec": {
   "display_name": "Python 3 (ipykernel)",
   "language": "python",
   "name": "python3"
  },
  "language_info": {
   "codemirror_mode": {
    "name": "ipython",
    "version": 3
   },
   "file_extension": ".py",
   "mimetype": "text/x-python",
   "name": "python",
   "nbconvert_exporter": "python",
   "pygments_lexer": "ipython3",
   "version": "3.11.4"
  }
 },
 "nbformat": 4,
 "nbformat_minor": 1
}
